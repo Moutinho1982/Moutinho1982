{
  "nbformat": 4,
  "nbformat_minor": 0,
  "metadata": {
    "colab": {
      "name": "Analises de dados_bootcamp.ipynb",
      "provenance": [],
      "collapsed_sections": [],
      "mount_file_id": "1SBLHjbdydp6Hg9yQLYyarZkNBDnjvuZ0",
      "authorship_tag": "ABX9TyNcQS5Mtk/F9y3maRRG0ISu",
      "include_colab_link": true
    },
    "kernelspec": {
      "name": "python3",
      "display_name": "Python 3"
    },
    "language_info": {
      "name": "python"
    }
  },
  "cells": [
    {
      "cell_type": "markdown",
      "metadata": {
        "id": "view-in-github",
        "colab_type": "text"
      },
      "source": [
        "<a href=\"https://colab.research.google.com/github/Moutinho1982/Moutinho1982/blob/main/Analises_de_dados_bootcamp.ipynb\" target=\"_parent\"><img src=\"https://colab.research.google.com/assets/colab-badge.svg\" alt=\"Open In Colab\"/></a>"
      ]
    },
    {
      "cell_type": "code",
      "metadata": {
        "id": "qW8aVvcgyCSO"
      },
      "source": [
        "import pandas as pd"
      ],
      "execution_count": 1,
      "outputs": []
    },
    {
      "cell_type": "code",
      "metadata": {
        "id": "Vnn5VhzY1f-S"
      },
      "source": [
        "df = pd.read_excel(\"/content/Nova_Base.xlsx\")"
      ],
      "execution_count": 51,
      "outputs": []
    },
    {
      "cell_type": "code",
      "metadata": {
        "colab": {
          "base_uri": "https://localhost:8080/",
          "height": 221
        },
        "id": "-QhR8CMV13BS",
        "outputId": "abf30fae-0603-43e5-a830-75d170bbea71"
      },
      "source": [
        "df.head()"
      ],
      "execution_count": 12,
      "outputs": [
        {
          "output_type": "execute_result",
          "data": {
            "text/html": [
              "<div>\n",
              "<style scoped>\n",
              "    .dataframe tbody tr th:only-of-type {\n",
              "        vertical-align: middle;\n",
              "    }\n",
              "\n",
              "    .dataframe tbody tr th {\n",
              "        vertical-align: top;\n",
              "    }\n",
              "\n",
              "    .dataframe thead th {\n",
              "        text-align: right;\n",
              "    }\n",
              "</style>\n",
              "<table border=\"1\" class=\"dataframe\">\n",
              "  <thead>\n",
              "    <tr style=\"text-align: right;\">\n",
              "      <th></th>\n",
              "      <th>Código da Loja</th>\n",
              "      <th>Estado</th>\n",
              "      <th>Área da Loja</th>\n",
              "      <th>Itens Vendidos</th>\n",
              "      <th>Clientes atendidos</th>\n",
              "      <th>Funcionarios</th>\n",
              "      <th>Horas Trabalhadas - Total da Loja</th>\n",
              "      <th>Data de abertura</th>\n",
              "    </tr>\n",
              "  </thead>\n",
              "  <tbody>\n",
              "    <tr>\n",
              "      <th>0</th>\n",
              "      <td>1</td>\n",
              "      <td>AL</td>\n",
              "      <td>5512</td>\n",
              "      <td>12003168</td>\n",
              "      <td>832153</td>\n",
              "      <td>139</td>\n",
              "      <td>30208</td>\n",
              "      <td>2018-01-01</td>\n",
              "    </tr>\n",
              "    <tr>\n",
              "      <th>1</th>\n",
              "      <td>2</td>\n",
              "      <td>AL</td>\n",
              "      <td>4913</td>\n",
              "      <td>9867560</td>\n",
              "      <td>782601</td>\n",
              "      <td>133</td>\n",
              "      <td>28903</td>\n",
              "      <td>2018-01-01</td>\n",
              "    </tr>\n",
              "    <tr>\n",
              "      <th>2</th>\n",
              "      <td>3</td>\n",
              "      <td>BA</td>\n",
              "      <td>4496</td>\n",
              "      <td>10006477</td>\n",
              "      <td>837415</td>\n",
              "      <td>121</td>\n",
              "      <td>25690</td>\n",
              "      <td>2018-01-01</td>\n",
              "    </tr>\n",
              "    <tr>\n",
              "      <th>3</th>\n",
              "      <td>4</td>\n",
              "      <td>BA</td>\n",
              "      <td>417</td>\n",
              "      <td>1588183</td>\n",
              "      <td>360179</td>\n",
              "      <td>35</td>\n",
              "      <td>7541</td>\n",
              "      <td>2018-01-01</td>\n",
              "    </tr>\n",
              "    <tr>\n",
              "      <th>4</th>\n",
              "      <td>5</td>\n",
              "      <td>BA</td>\n",
              "      <td>5600</td>\n",
              "      <td>11642218</td>\n",
              "      <td>774767</td>\n",
              "      <td>137</td>\n",
              "      <td>29275</td>\n",
              "      <td>2018-01-01</td>\n",
              "    </tr>\n",
              "  </tbody>\n",
              "</table>\n",
              "</div>"
            ],
            "text/plain": [
              "   Código da Loja Estado  ...  Horas Trabalhadas - Total da Loja  Data de abertura\n",
              "0               1     AL  ...                              30208        2018-01-01\n",
              "1               2     AL  ...                              28903        2018-01-01\n",
              "2               3     BA  ...                              25690        2018-01-01\n",
              "3               4     BA  ...                               7541        2018-01-01\n",
              "4               5     BA  ...                              29275        2018-01-01\n",
              "\n",
              "[5 rows x 8 columns]"
            ]
          },
          "metadata": {},
          "execution_count": 12
        }
      ]
    },
    {
      "cell_type": "code",
      "metadata": {
        "id": "Eijxog2f3TOn",
        "colab": {
          "base_uri": "https://localhost:8080/",
          "height": 221
        },
        "outputId": "c02d4ee1-d583-493c-fed0-ada22bc80731"
      },
      "source": [
        "df.tail()"
      ],
      "execution_count": 13,
      "outputs": [
        {
          "output_type": "execute_result",
          "data": {
            "text/html": [
              "<div>\n",
              "<style scoped>\n",
              "    .dataframe tbody tr th:only-of-type {\n",
              "        vertical-align: middle;\n",
              "    }\n",
              "\n",
              "    .dataframe tbody tr th {\n",
              "        vertical-align: top;\n",
              "    }\n",
              "\n",
              "    .dataframe thead th {\n",
              "        text-align: right;\n",
              "    }\n",
              "</style>\n",
              "<table border=\"1\" class=\"dataframe\">\n",
              "  <thead>\n",
              "    <tr style=\"text-align: right;\">\n",
              "      <th></th>\n",
              "      <th>Código da Loja</th>\n",
              "      <th>Estado</th>\n",
              "      <th>Área da Loja</th>\n",
              "      <th>Itens Vendidos</th>\n",
              "      <th>Clientes atendidos</th>\n",
              "      <th>Funcionarios</th>\n",
              "      <th>Horas Trabalhadas - Total da Loja</th>\n",
              "      <th>Data de abertura</th>\n",
              "    </tr>\n",
              "  </thead>\n",
              "  <tbody>\n",
              "    <tr>\n",
              "      <th>752</th>\n",
              "      <td>756</td>\n",
              "      <td>SP</td>\n",
              "      <td>1566</td>\n",
              "      <td>2204555</td>\n",
              "      <td>227452</td>\n",
              "      <td>32</td>\n",
              "      <td>6602</td>\n",
              "      <td>2019-01-01</td>\n",
              "    </tr>\n",
              "    <tr>\n",
              "      <th>753</th>\n",
              "      <td>757</td>\n",
              "      <td>SP</td>\n",
              "      <td>2030</td>\n",
              "      <td>4006903</td>\n",
              "      <td>350558</td>\n",
              "      <td>56</td>\n",
              "      <td>11777</td>\n",
              "      <td>2019-01-01</td>\n",
              "    </tr>\n",
              "    <tr>\n",
              "      <th>754</th>\n",
              "      <td>759</td>\n",
              "      <td>SP</td>\n",
              "      <td>3294</td>\n",
              "      <td>1758378</td>\n",
              "      <td>141271</td>\n",
              "      <td>44</td>\n",
              "      <td>9412</td>\n",
              "      <td>2019-01-01</td>\n",
              "    </tr>\n",
              "    <tr>\n",
              "      <th>755</th>\n",
              "      <td>760</td>\n",
              "      <td>SP</td>\n",
              "      <td>2059</td>\n",
              "      <td>4742829</td>\n",
              "      <td>395044</td>\n",
              "      <td>55</td>\n",
              "      <td>11950</td>\n",
              "      <td>2019-01-01</td>\n",
              "    </tr>\n",
              "    <tr>\n",
              "      <th>756</th>\n",
              "      <td>761</td>\n",
              "      <td>TO</td>\n",
              "      <td>4508</td>\n",
              "      <td>12526169</td>\n",
              "      <td>1101766</td>\n",
              "      <td>171</td>\n",
              "      <td>36485</td>\n",
              "      <td>2019-01-01</td>\n",
              "    </tr>\n",
              "  </tbody>\n",
              "</table>\n",
              "</div>"
            ],
            "text/plain": [
              "     Código da Loja Estado  ...  Horas Trabalhadas - Total da Loja  Data de abertura\n",
              "752             756     SP  ...                               6602        2019-01-01\n",
              "753             757     SP  ...                              11777        2019-01-01\n",
              "754             759     SP  ...                               9412        2019-01-01\n",
              "755             760     SP  ...                              11950        2019-01-01\n",
              "756             761     TO  ...                              36485        2019-01-01\n",
              "\n",
              "[5 rows x 8 columns]"
            ]
          },
          "metadata": {},
          "execution_count": 13
        }
      ]
    },
    {
      "cell_type": "code",
      "metadata": {
        "colab": {
          "base_uri": "https://localhost:8080/",
          "height": 221
        },
        "id": "JfrGef1A7sbo",
        "outputId": "742df106-9a1f-4975-c247-e94b86059267"
      },
      "source": [
        "df.sample(5)"
      ],
      "execution_count": 14,
      "outputs": [
        {
          "output_type": "execute_result",
          "data": {
            "text/html": [
              "<div>\n",
              "<style scoped>\n",
              "    .dataframe tbody tr th:only-of-type {\n",
              "        vertical-align: middle;\n",
              "    }\n",
              "\n",
              "    .dataframe tbody tr th {\n",
              "        vertical-align: top;\n",
              "    }\n",
              "\n",
              "    .dataframe thead th {\n",
              "        text-align: right;\n",
              "    }\n",
              "</style>\n",
              "<table border=\"1\" class=\"dataframe\">\n",
              "  <thead>\n",
              "    <tr style=\"text-align: right;\">\n",
              "      <th></th>\n",
              "      <th>Código da Loja</th>\n",
              "      <th>Estado</th>\n",
              "      <th>Área da Loja</th>\n",
              "      <th>Itens Vendidos</th>\n",
              "      <th>Clientes atendidos</th>\n",
              "      <th>Funcionarios</th>\n",
              "      <th>Horas Trabalhadas - Total da Loja</th>\n",
              "      <th>Data de abertura</th>\n",
              "    </tr>\n",
              "  </thead>\n",
              "  <tbody>\n",
              "    <tr>\n",
              "      <th>740</th>\n",
              "      <td>744</td>\n",
              "      <td>SP</td>\n",
              "      <td>108</td>\n",
              "      <td>379400</td>\n",
              "      <td>84124</td>\n",
              "      <td>8</td>\n",
              "      <td>1644</td>\n",
              "      <td>2019-01-01</td>\n",
              "    </tr>\n",
              "    <tr>\n",
              "      <th>516</th>\n",
              "      <td>518</td>\n",
              "      <td>SP</td>\n",
              "      <td>288</td>\n",
              "      <td>711536</td>\n",
              "      <td>207127</td>\n",
              "      <td>8</td>\n",
              "      <td>1711</td>\n",
              "      <td>2021-01-01</td>\n",
              "    </tr>\n",
              "    <tr>\n",
              "      <th>576</th>\n",
              "      <td>578</td>\n",
              "      <td>SP</td>\n",
              "      <td>135</td>\n",
              "      <td>456189</td>\n",
              "      <td>102703</td>\n",
              "      <td>5</td>\n",
              "      <td>1126</td>\n",
              "      <td>2020-01-01</td>\n",
              "    </tr>\n",
              "    <tr>\n",
              "      <th>580</th>\n",
              "      <td>582</td>\n",
              "      <td>SP</td>\n",
              "      <td>191</td>\n",
              "      <td>578626</td>\n",
              "      <td>122025</td>\n",
              "      <td>6</td>\n",
              "      <td>1261</td>\n",
              "      <td>2020-01-01</td>\n",
              "    </tr>\n",
              "    <tr>\n",
              "      <th>464</th>\n",
              "      <td>466</td>\n",
              "      <td>SP</td>\n",
              "      <td>858</td>\n",
              "      <td>3588664</td>\n",
              "      <td>363042</td>\n",
              "      <td>47</td>\n",
              "      <td>10044</td>\n",
              "      <td>2021-01-01</td>\n",
              "    </tr>\n",
              "  </tbody>\n",
              "</table>\n",
              "</div>"
            ],
            "text/plain": [
              "     Código da Loja Estado  ...  Horas Trabalhadas - Total da Loja  Data de abertura\n",
              "740             744     SP  ...                               1644        2019-01-01\n",
              "516             518     SP  ...                               1711        2021-01-01\n",
              "576             578     SP  ...                               1126        2020-01-01\n",
              "580             582     SP  ...                               1261        2020-01-01\n",
              "464             466     SP  ...                              10044        2021-01-01\n",
              "\n",
              "[5 rows x 8 columns]"
            ]
          },
          "metadata": {},
          "execution_count": 14
        }
      ]
    },
    {
      "cell_type": "code",
      "metadata": {
        "colab": {
          "base_uri": "https://localhost:8080/"
        },
        "id": "_RAoYzoA7vFH",
        "outputId": "4f4c1514-e776-428b-888b-d5734306a0d3"
      },
      "source": [
        "df.dtypes"
      ],
      "execution_count": 15,
      "outputs": [
        {
          "output_type": "execute_result",
          "data": {
            "text/plain": [
              "Código da Loja                                int64\n",
              "Estado                                       object\n",
              "Área da Loja                                  int64\n",
              "Itens Vendidos                                int64\n",
              "Clientes atendidos                            int64\n",
              "Funcionarios                                  int64\n",
              "Horas Trabalhadas - Total da Loja             int64\n",
              "Data de abertura                     datetime64[ns]\n",
              "dtype: object"
            ]
          },
          "metadata": {},
          "execution_count": 15
        }
      ]
    },
    {
      "cell_type": "code",
      "metadata": {
        "id": "YWoGWUUL73qH",
        "colab": {
          "base_uri": "https://localhost:8080/"
        },
        "outputId": "a0dd5662-068e-4627-f88c-3dcc588c40f1"
      },
      "source": [
        "df.isnull().sum()"
      ],
      "execution_count": 16,
      "outputs": [
        {
          "output_type": "execute_result",
          "data": {
            "text/plain": [
              "Código da Loja                       0\n",
              "Estado                               0\n",
              "Área da Loja                         0\n",
              "Itens Vendidos                       0\n",
              "Clientes atendidos                   0\n",
              "Funcionarios                         0\n",
              "Horas Trabalhadas - Total da Loja    0\n",
              "Data de abertura                     0\n",
              "dtype: int64"
            ]
          },
          "metadata": {},
          "execution_count": 16
        }
      ]
    },
    {
      "cell_type": "code",
      "metadata": {
        "colab": {
          "base_uri": "https://localhost:8080/"
        },
        "id": "qv2J7YhZS2HU",
        "outputId": "ced1bbc9-34b2-4647-a8de-b8e1b9e42094"
      },
      "source": [
        "#retornando a maior quantidade de funcionários\n",
        "df[\"Funcionarios\"].max()"
      ],
      "execution_count": 17,
      "outputs": [
        {
          "output_type": "execute_result",
          "data": {
            "text/plain": [
              "253"
            ]
          },
          "metadata": {},
          "execution_count": 17
        }
      ]
    },
    {
      "cell_type": "code",
      "metadata": {
        "colab": {
          "base_uri": "https://localhost:8080/"
        },
        "id": "rNsxxH7oTH3E",
        "outputId": "e0b3978f-eb4f-427b-c62a-ff138981b2bf"
      },
      "source": [
        "#retornando a menor quantidade de funcionários\n",
        "df[\"Funcionarios\"].min()"
      ],
      "execution_count": 18,
      "outputs": [
        {
          "output_type": "execute_result",
          "data": {
            "text/plain": [
              "4"
            ]
          },
          "metadata": {},
          "execution_count": 18
        }
      ]
    },
    {
      "cell_type": "code",
      "metadata": {
        "colab": {
          "base_uri": "https://localhost:8080/",
          "height": 221
        },
        "id": "Nzu6V37pTKMy",
        "outputId": "c78f6002-0cda-4be9-9033-dcac3681b9a6"
      },
      "source": [
        "df.nlargest(5, \"Funcionarios\")"
      ],
      "execution_count": 19,
      "outputs": [
        {
          "output_type": "execute_result",
          "data": {
            "text/html": [
              "<div>\n",
              "<style scoped>\n",
              "    .dataframe tbody tr th:only-of-type {\n",
              "        vertical-align: middle;\n",
              "    }\n",
              "\n",
              "    .dataframe tbody tr th {\n",
              "        vertical-align: top;\n",
              "    }\n",
              "\n",
              "    .dataframe thead th {\n",
              "        text-align: right;\n",
              "    }\n",
              "</style>\n",
              "<table border=\"1\" class=\"dataframe\">\n",
              "  <thead>\n",
              "    <tr style=\"text-align: right;\">\n",
              "      <th></th>\n",
              "      <th>Código da Loja</th>\n",
              "      <th>Estado</th>\n",
              "      <th>Área da Loja</th>\n",
              "      <th>Itens Vendidos</th>\n",
              "      <th>Clientes atendidos</th>\n",
              "      <th>Funcionarios</th>\n",
              "      <th>Horas Trabalhadas - Total da Loja</th>\n",
              "      <th>Data de abertura</th>\n",
              "    </tr>\n",
              "  </thead>\n",
              "  <tbody>\n",
              "    <tr>\n",
              "      <th>381</th>\n",
              "      <td>383</td>\n",
              "      <td>SP</td>\n",
              "      <td>7358</td>\n",
              "      <td>27305737</td>\n",
              "      <td>1741401</td>\n",
              "      <td>253</td>\n",
              "      <td>54723</td>\n",
              "      <td>2021-01-01</td>\n",
              "    </tr>\n",
              "    <tr>\n",
              "      <th>28</th>\n",
              "      <td>29</td>\n",
              "      <td>DF</td>\n",
              "      <td>8146</td>\n",
              "      <td>24244157</td>\n",
              "      <td>1396693</td>\n",
              "      <td>252</td>\n",
              "      <td>53096</td>\n",
              "      <td>2018-01-01</td>\n",
              "    </tr>\n",
              "    <tr>\n",
              "      <th>483</th>\n",
              "      <td>485</td>\n",
              "      <td>SP</td>\n",
              "      <td>4499</td>\n",
              "      <td>20743582</td>\n",
              "      <td>2008825</td>\n",
              "      <td>247</td>\n",
              "      <td>52062</td>\n",
              "      <td>2021-01-01</td>\n",
              "    </tr>\n",
              "    <tr>\n",
              "      <th>749</th>\n",
              "      <td>753</td>\n",
              "      <td>SP</td>\n",
              "      <td>9743</td>\n",
              "      <td>24192239</td>\n",
              "      <td>1216963</td>\n",
              "      <td>241</td>\n",
              "      <td>50579</td>\n",
              "      <td>2019-01-01</td>\n",
              "    </tr>\n",
              "    <tr>\n",
              "      <th>450</th>\n",
              "      <td>452</td>\n",
              "      <td>SP</td>\n",
              "      <td>6096</td>\n",
              "      <td>26369168</td>\n",
              "      <td>1272249</td>\n",
              "      <td>238</td>\n",
              "      <td>50565</td>\n",
              "      <td>2021-01-01</td>\n",
              "    </tr>\n",
              "  </tbody>\n",
              "</table>\n",
              "</div>"
            ],
            "text/plain": [
              "     Código da Loja Estado  ...  Horas Trabalhadas - Total da Loja  Data de abertura\n",
              "381             383     SP  ...                              54723        2021-01-01\n",
              "28               29     DF  ...                              53096        2018-01-01\n",
              "483             485     SP  ...                              52062        2021-01-01\n",
              "749             753     SP  ...                              50579        2019-01-01\n",
              "450             452     SP  ...                              50565        2021-01-01\n",
              "\n",
              "[5 rows x 8 columns]"
            ]
          },
          "metadata": {},
          "execution_count": 19
        }
      ]
    },
    {
      "cell_type": "code",
      "metadata": {
        "colab": {
          "base_uri": "https://localhost:8080/",
          "height": 221
        },
        "id": "mkCDsIr7T1VD",
        "outputId": "ec5f1327-78b6-4754-8526-ea050bcce4b6"
      },
      "source": [
        "df.nsmallest(5,\"Funcionarios\")"
      ],
      "execution_count": 20,
      "outputs": [
        {
          "output_type": "execute_result",
          "data": {
            "text/html": [
              "<div>\n",
              "<style scoped>\n",
              "    .dataframe tbody tr th:only-of-type {\n",
              "        vertical-align: middle;\n",
              "    }\n",
              "\n",
              "    .dataframe tbody tr th {\n",
              "        vertical-align: top;\n",
              "    }\n",
              "\n",
              "    .dataframe thead th {\n",
              "        text-align: right;\n",
              "    }\n",
              "</style>\n",
              "<table border=\"1\" class=\"dataframe\">\n",
              "  <thead>\n",
              "    <tr style=\"text-align: right;\">\n",
              "      <th></th>\n",
              "      <th>Código da Loja</th>\n",
              "      <th>Estado</th>\n",
              "      <th>Área da Loja</th>\n",
              "      <th>Itens Vendidos</th>\n",
              "      <th>Clientes atendidos</th>\n",
              "      <th>Funcionarios</th>\n",
              "      <th>Horas Trabalhadas - Total da Loja</th>\n",
              "      <th>Data de abertura</th>\n",
              "    </tr>\n",
              "  </thead>\n",
              "  <tbody>\n",
              "    <tr>\n",
              "      <th>506</th>\n",
              "      <td>508</td>\n",
              "      <td>SP</td>\n",
              "      <td>114</td>\n",
              "      <td>408105</td>\n",
              "      <td>130903</td>\n",
              "      <td>4</td>\n",
              "      <td>980</td>\n",
              "      <td>2021-01-01</td>\n",
              "    </tr>\n",
              "    <tr>\n",
              "      <th>540</th>\n",
              "      <td>542</td>\n",
              "      <td>SP</td>\n",
              "      <td>112</td>\n",
              "      <td>404233</td>\n",
              "      <td>89908</td>\n",
              "      <td>4</td>\n",
              "      <td>896</td>\n",
              "      <td>2020-01-01</td>\n",
              "    </tr>\n",
              "    <tr>\n",
              "      <th>585</th>\n",
              "      <td>587</td>\n",
              "      <td>SP</td>\n",
              "      <td>175</td>\n",
              "      <td>471506</td>\n",
              "      <td>92533</td>\n",
              "      <td>4</td>\n",
              "      <td>910</td>\n",
              "      <td>2020-01-01</td>\n",
              "    </tr>\n",
              "    <tr>\n",
              "      <th>586</th>\n",
              "      <td>588</td>\n",
              "      <td>SP</td>\n",
              "      <td>191</td>\n",
              "      <td>469212</td>\n",
              "      <td>115010</td>\n",
              "      <td>4</td>\n",
              "      <td>948</td>\n",
              "      <td>2020-01-01</td>\n",
              "    </tr>\n",
              "    <tr>\n",
              "      <th>613</th>\n",
              "      <td>615</td>\n",
              "      <td>SP</td>\n",
              "      <td>81</td>\n",
              "      <td>353493</td>\n",
              "      <td>125214</td>\n",
              "      <td>4</td>\n",
              "      <td>966</td>\n",
              "      <td>2020-01-01</td>\n",
              "    </tr>\n",
              "  </tbody>\n",
              "</table>\n",
              "</div>"
            ],
            "text/plain": [
              "     Código da Loja Estado  ...  Horas Trabalhadas - Total da Loja  Data de abertura\n",
              "506             508     SP  ...                                980        2021-01-01\n",
              "540             542     SP  ...                                896        2020-01-01\n",
              "585             587     SP  ...                                910        2020-01-01\n",
              "586             588     SP  ...                                948        2020-01-01\n",
              "613             615     SP  ...                                966        2020-01-01\n",
              "\n",
              "[5 rows x 8 columns]"
            ]
          },
          "metadata": {},
          "execution_count": 20
        }
      ]
    },
    {
      "cell_type": "code",
      "metadata": {
        "colab": {
          "base_uri": "https://localhost:8080/"
        },
        "id": "V3_NdIIzT_kg",
        "outputId": "b7563860-4cf2-4a3a-c49b-afcfd1713cf9"
      },
      "source": [
        "#Agrupamento de funcionários por dependecia administrativa\n",
        "df.groupby(\"Estado\")[\"Funcionarios\"].sum()"
      ],
      "execution_count": 21,
      "outputs": [
        {
          "output_type": "execute_result",
          "data": {
            "text/plain": [
              "Estado\n",
              "AL      272\n",
              "BA      475\n",
              "CE     1334\n",
              "DF     1418\n",
              "GO      430\n",
              "MG      566\n",
              "MS      402\n",
              "MT      184\n",
              "PB      367\n",
              "PE      842\n",
              "PI      400\n",
              "PR      138\n",
              "RJ     5284\n",
              "RN      312\n",
              "SE      184\n",
              "SP    20165\n",
              "TO      171\n",
              "Name: Funcionarios, dtype: int64"
            ]
          },
          "metadata": {},
          "execution_count": 21
        }
      ]
    },
    {
      "cell_type": "code",
      "metadata": {
        "colab": {
          "base_uri": "https://localhost:8080/"
        },
        "id": "D4shFAG-WrZj",
        "outputId": "8b461f2c-00b0-49e6-e128-5000945c5e57"
      },
      "source": [
        "#Aberturas de lojas por ano\n",
        "df.groupby(df[\"Data de abertura\"].dt.year)[\"Estado\"].count()"
      ],
      "execution_count": 26,
      "outputs": [
        {
          "output_type": "execute_result",
          "data": {
            "text/plain": [
              "Data de abertura\n",
              "2018    124\n",
              "2019    109\n",
              "2020    262\n",
              "2021    262\n",
              "Name: Estado, dtype: int64"
            ]
          },
          "metadata": {},
          "execution_count": 26
        }
      ]
    },
    {
      "cell_type": "code",
      "metadata": {
        "colab": {
          "base_uri": "https://localhost:8080/"
        },
        "id": "pflGabbHNpCh",
        "outputId": "a2f27861-55f7-4517-c49b-fc13ce8d7a52"
      },
      "source": [
        "#Funcionarios contratados por ano\n",
        "df.groupby(df[\"Data de abertura\"].dt.year)[\"Funcionarios\"].sum()"
      ],
      "execution_count": 27,
      "outputs": [
        {
          "output_type": "execute_result",
          "data": {
            "text/plain": [
              "Data de abertura\n",
              "2018     8634\n",
              "2019     2742\n",
              "2020     9150\n",
              "2021    12418\n",
              "Name: Funcionarios, dtype: int64"
            ]
          },
          "metadata": {},
          "execution_count": 27
        }
      ]
    },
    {
      "cell_type": "code",
      "metadata": {
        "id": "S52iZF2BsaWv"
      },
      "source": [
        "df[\"Horas Trabalhadas\"] = df[\"Horas Trabalhadas - Total da Loja\"] / df[\"Funcionarios\"]"
      ],
      "execution_count": 11,
      "outputs": []
    },
    {
      "cell_type": "code",
      "metadata": {
        "id": "jCGktlMPuvxn"
      },
      "source": [
        "df[\"Produtividade\"] = df[\"Itens Vendidos\"] / df[\"Horas Trabalhadas - Total da Loja\"]"
      ],
      "execution_count": 13,
      "outputs": []
    },
    {
      "cell_type": "code",
      "metadata": {
        "id": "lyEV1EGX0mKN"
      },
      "source": [
        "#Media de itens vendidos por cliente em cada loja\n",
        "df[\"Média de itens vendidos\"] = df[\"Itens Vendidos\"] / df[\"Clientes atendidos\"]"
      ],
      "execution_count": 14,
      "outputs": []
    },
    {
      "cell_type": "code",
      "metadata": {
        "id": "Yta0c_4v1bb3"
      },
      "source": [
        "#Media de clientes atendidos por cada funcionario em cada loja\n",
        "df[\"Média de clientes atendidos\"] = df[\"Clientes atendidos\"] / df[\"Funcionarios\"]"
      ],
      "execution_count": 15,
      "outputs": []
    },
    {
      "cell_type": "code",
      "metadata": {
        "colab": {
          "base_uri": "https://localhost:8080/",
          "height": 360
        },
        "id": "L4VcDOrguUei",
        "outputId": "56112650-c10a-45c5-ced6-1703e138c38b"
      },
      "source": [
        "df.head()"
      ],
      "execution_count": 16,
      "outputs": [
        {
          "output_type": "execute_result",
          "data": {
            "text/html": [
              "<div>\n",
              "<style scoped>\n",
              "    .dataframe tbody tr th:only-of-type {\n",
              "        vertical-align: middle;\n",
              "    }\n",
              "\n",
              "    .dataframe tbody tr th {\n",
              "        vertical-align: top;\n",
              "    }\n",
              "\n",
              "    .dataframe thead th {\n",
              "        text-align: right;\n",
              "    }\n",
              "</style>\n",
              "<table border=\"1\" class=\"dataframe\">\n",
              "  <thead>\n",
              "    <tr style=\"text-align: right;\">\n",
              "      <th></th>\n",
              "      <th>Código da Loja</th>\n",
              "      <th>Estado</th>\n",
              "      <th>Área da Loja</th>\n",
              "      <th>Itens Vendidos</th>\n",
              "      <th>Clientes atendidos</th>\n",
              "      <th>Funcionarios</th>\n",
              "      <th>Horas Trabalhadas - Total da Loja</th>\n",
              "      <th>Data de abertura</th>\n",
              "      <th>Horas Trabalhadas</th>\n",
              "      <th>Produtividade</th>\n",
              "      <th>Média de itens vendidos</th>\n",
              "      <th>Média de clientes atendidos</th>\n",
              "    </tr>\n",
              "  </thead>\n",
              "  <tbody>\n",
              "    <tr>\n",
              "      <th>0</th>\n",
              "      <td>1</td>\n",
              "      <td>AL</td>\n",
              "      <td>5512</td>\n",
              "      <td>12003168</td>\n",
              "      <td>832153</td>\n",
              "      <td>139</td>\n",
              "      <td>30208</td>\n",
              "      <td>2018-01-01</td>\n",
              "      <td>217.323741</td>\n",
              "      <td>397.350636</td>\n",
              "      <td>14.424232</td>\n",
              "      <td>5986.712230</td>\n",
              "    </tr>\n",
              "    <tr>\n",
              "      <th>1</th>\n",
              "      <td>2</td>\n",
              "      <td>AL</td>\n",
              "      <td>4913</td>\n",
              "      <td>9867560</td>\n",
              "      <td>782601</td>\n",
              "      <td>133</td>\n",
              "      <td>28903</td>\n",
              "      <td>2018-01-01</td>\n",
              "      <td>217.315789</td>\n",
              "      <td>341.402623</td>\n",
              "      <td>12.608673</td>\n",
              "      <td>5884.218045</td>\n",
              "    </tr>\n",
              "    <tr>\n",
              "      <th>2</th>\n",
              "      <td>3</td>\n",
              "      <td>BA</td>\n",
              "      <td>4496</td>\n",
              "      <td>10006477</td>\n",
              "      <td>837415</td>\n",
              "      <td>121</td>\n",
              "      <td>25690</td>\n",
              "      <td>2018-01-01</td>\n",
              "      <td>212.314050</td>\n",
              "      <td>389.508641</td>\n",
              "      <td>11.949245</td>\n",
              "      <td>6920.785124</td>\n",
              "    </tr>\n",
              "    <tr>\n",
              "      <th>3</th>\n",
              "      <td>4</td>\n",
              "      <td>BA</td>\n",
              "      <td>417</td>\n",
              "      <td>1588183</td>\n",
              "      <td>360179</td>\n",
              "      <td>35</td>\n",
              "      <td>7541</td>\n",
              "      <td>2018-01-01</td>\n",
              "      <td>215.457143</td>\n",
              "      <td>210.606418</td>\n",
              "      <td>4.409427</td>\n",
              "      <td>10290.828571</td>\n",
              "    </tr>\n",
              "    <tr>\n",
              "      <th>4</th>\n",
              "      <td>5</td>\n",
              "      <td>BA</td>\n",
              "      <td>5600</td>\n",
              "      <td>11642218</td>\n",
              "      <td>774767</td>\n",
              "      <td>137</td>\n",
              "      <td>29275</td>\n",
              "      <td>2018-01-01</td>\n",
              "      <td>213.686131</td>\n",
              "      <td>397.684646</td>\n",
              "      <td>15.026734</td>\n",
              "      <td>5655.233577</td>\n",
              "    </tr>\n",
              "  </tbody>\n",
              "</table>\n",
              "</div>"
            ],
            "text/plain": [
              "   Código da Loja Estado  ...  Média de itens vendidos  Média de clientes atendidos\n",
              "0               1     AL  ...                14.424232                  5986.712230\n",
              "1               2     AL  ...                12.608673                  5884.218045\n",
              "2               3     BA  ...                11.949245                  6920.785124\n",
              "3               4     BA  ...                 4.409427                 10290.828571\n",
              "4               5     BA  ...                15.026734                  5655.233577\n",
              "\n",
              "[5 rows x 12 columns]"
            ]
          },
          "metadata": {},
          "execution_count": 16
        }
      ]
    },
    {
      "cell_type": "code",
      "metadata": {
        "colab": {
          "base_uri": "https://localhost:8080/"
        },
        "id": "DwFKKZjs3c5F",
        "outputId": "aea0d288-8c28-4c9d-e1e3-728db6777214"
      },
      "source": [
        "#Estado que vendeu mais itens\n",
        "df.groupby(\"Estado\")[\"Itens Vendidos\"].sum()"
      ],
      "execution_count": 33,
      "outputs": [
        {
          "output_type": "execute_result",
          "data": {
            "text/plain": [
              "Estado\n",
              "AL      21870728\n",
              "BA      37237429\n",
              "CE      96026819\n",
              "DF     119422872\n",
              "GO      32950059\n",
              "MG      36582667\n",
              "MS      22909617\n",
              "MT      11360236\n",
              "PB      27315165\n",
              "PE      65153934\n",
              "PI      30085490\n",
              "PR       9249045\n",
              "RJ     542388691\n",
              "RN      20050217\n",
              "SE      11852888\n",
              "SP    1796563557\n",
              "TO      12526169\n",
              "Name: Itens Vendidos, dtype: int64"
            ]
          },
          "metadata": {},
          "execution_count": 33
        }
      ]
    },
    {
      "cell_type": "code",
      "metadata": {
        "colab": {
          "base_uri": "https://localhost:8080/",
          "height": 314
        },
        "id": "oucjmS087cMk",
        "outputId": "628817dc-4b76-412e-b152-e5fd25608f17"
      },
      "source": [
        "df.groupby(\"Estado\")[\"Itens Vendidos\"].sum().plot.bar()"
      ],
      "execution_count": 39,
      "outputs": [
        {
          "output_type": "execute_result",
          "data": {
            "text/plain": [
              "<matplotlib.axes._subplots.AxesSubplot at 0x7f0c85f5b690>"
            ]
          },
          "metadata": {},
          "execution_count": 39
        },
        {
          "output_type": "display_data",
          "data": {
            "image/png": "[encoded data removed]",
            "text/plain": [
              "<Figure size 432x288 with 1 Axes>"
            ]
          },
          "metadata": {
            "needs_background": "light"
          }
        }
      ]
    },
    {
      "cell_type": "code",
      "metadata": {
        "colab": {
          "base_uri": "https://localhost:8080/",
          "height": 282
        },
        "id": "uM2hPAIzAPfS",
        "outputId": "af5af638-fe9f-40e8-acc3-f601671fe180"
      },
      "source": [
        "df.groupby(\"Estado\")[\"Produtividade\"].sum().plot.barh()"
      ],
      "execution_count": 40,
      "outputs": [
        {
          "output_type": "execute_result",
          "data": {
            "text/plain": [
              "<matplotlib.axes._subplots.AxesSubplot at 0x7f0c861d68d0>"
            ]
          },
          "metadata": {},
          "execution_count": 40
        },
        {
          "output_type": "display_data",
          "data": {
            "image/png": "[encoded data removed]",
            "text/plain": [
              "<Figure size 432x288 with 1 Axes>"
            ]
          },
          "metadata": {
            "needs_background": "light"
          }
        }
      ]
    },
    {
      "cell_type": "code",
      "metadata": {
        "colab": {
          "base_uri": "https://localhost:8080/",
          "height": 312
        },
        "id": "D22Gp2ayA5NO",
        "outputId": "6fe7cf67-5c49-48a1-f92a-3f5cdd1d7f06"
      },
      "source": [
        "df.groupby(df[\"Data de abertura\"].dt.year)[\"Estado\"].count().plot.bar()"
      ],
      "execution_count": 46,
      "outputs": [
        {
          "output_type": "execute_result",
          "data": {
            "text/plain": [
              "<matplotlib.axes._subplots.AxesSubplot at 0x7f0c85e58950>"
            ]
          },
          "metadata": {},
          "execution_count": 46
        },
        {
          "output_type": "display_data",
          "data": {
            "image/png": "[encoded data removed]",
            "text/plain": [
              "<Figure size 432x288 with 1 Axes>"
            ]
          },
          "metadata": {
            "needs_background": "light"
          }
        }
      ]
    },
    {
      "cell_type": "code",
      "metadata": {
        "colab": {
          "base_uri": "https://localhost:8080/",
          "height": 265
        },
        "id": "0G9xUafuCMFL",
        "outputId": "14f17ec3-5af4-4ff3-eb83-e4d7d7a82ca9"
      },
      "source": [
        "df.groupby(df[\"Data de abertura\"].dt.year)[\"Estado\"].count().plot.pie()"
      ],
      "execution_count": 48,
      "outputs": [
        {
          "output_type": "execute_result",
          "data": {
            "text/plain": [
              "<matplotlib.axes._subplots.AxesSubplot at 0x7f0c85cfc510>"
            ]
          },
          "metadata": {},
          "execution_count": 48
        },
        {
          "output_type": "display_data",
          "data": {
            "image/png": "[encoded data removed]",
            "text/plain": [
              "<Figure size 432x288 with 1 Axes>"
            ]
          },
          "metadata": {}
        }
      ]
    },
    {
      "cell_type": "code",
      "metadata": {
        "colab": {
          "base_uri": "https://localhost:8080/",
          "height": 302
        },
        "id": "5kWlmtCkCPtE",
        "outputId": "9a677c8d-e61a-4040-d704-b097b67dff99"
      },
      "source": [
        "import matplotlib.pyplot as plt\n",
        "df[\"Estado\"].value_counts().plot.bar(title=\"Itens vendidos por estado\")\n",
        "plt.xlabel(\"Estado\")\n",
        "plt.ylabel(\"Itens Vendidos\");"
      ],
      "execution_count": 49,
      "outputs": [
        {
          "output_type": "display_data",
          "data": {
            "image/png": "[encoded data removed]",
            "text/plain": [
              "<Figure size 432x288 with 1 Axes>"
            ]
          },
          "metadata": {
            "needs_background": "light"
          }
        }
      ]
    },
    {
      "cell_type": "code",
      "metadata": {
        "colab": {
          "base_uri": "https://localhost:8080/",
          "height": 302
        },
        "id": "DoaPjb1ZDyEV",
        "outputId": "3a362955-687d-4b08-b84b-e554ecdd5ad2"
      },
      "source": [
        "import matplotlib.pyplot as plt\n",
        "df[\"Estado\"].value_counts().plot.bar(title=\"Itens vendidos por estado\", color=\"olive\")\n",
        "plt.xlabel(\"Estado\")\n",
        "plt.ylabel(\"Itens Vendidos\");"
      ],
      "execution_count": 55,
      "outputs": [
        {
          "output_type": "display_data",
          "data": {
            "image/png": "[encoded data removed]",
            "text/plain": [
              "<Figure size 432x288 with 1 Axes>"
            ]
          },
          "metadata": {
            "needs_background": "light"
          }
        }
      ]
    }
  ]
}